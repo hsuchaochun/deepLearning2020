{
 "cells": [
  {
   "cell_type": "code",
   "execution_count": 10,
   "metadata": {},
   "outputs": [],
   "source": [
    "import os\n",
    "import numpy as np\n",
    "import cv2\n",
    "import tensorflow as tf\n",
    "from tqdm import tqdm_notebook"
   ]
  },
  {
   "cell_type": "code",
   "execution_count": 11,
   "metadata": {},
   "outputs": [],
   "source": [
    "# 存放接下來 tensorboard 所有紀錄的路徑\n",
    "pathLog = 'log/'\n",
    "os.makedirs(pathLog, exist_ok = True)"
   ]
  },
  {
   "cell_type": "code",
   "execution_count": 12,
   "metadata": {},
   "outputs": [
    {
     "name": "stdout",
     "output_type": "stream",
     "text": [
      "Extracting MNIST_data/train-images-idx3-ubyte.gz\n",
      "Extracting MNIST_data/train-labels-idx1-ubyte.gz\n",
      "Extracting MNIST_data/t10k-images-idx3-ubyte.gz\n",
      "Extracting MNIST_data/t10k-labels-idx1-ubyte.gz\n"
     ]
    }
   ],
   "source": [
    "# Load MINIST dataset\n",
    "from tensorflow.examples.tutorials.mnist import input_data\n",
    "\n",
    "# 可能會出現大量的 Warning ，可以忽視\n",
    "mnist = input_data.read_data_sets(\"MNIST_data/\", one_hot = True)\n",
    "trainImages, trainLabels = mnist.train.images, mnist.train.labels\n",
    "testImages, testLabels = mnist.test.images, mnist.test.labels"
   ]
  },
  {
   "cell_type": "markdown",
   "metadata": {},
   "source": [
    "# Define the graph"
   ]
  },
  {
   "cell_type": "code",
   "execution_count": 14,
   "metadata": {},
   "outputs": [
    {
     "ename": "ImportError",
     "evalue": "cannot import name 'nets' from 'tensorflow_core.contrib.slim' (/home/hsuchaochun/anaconda3/lib/python3.7/site-packages/tensorflow_core/contrib/slim/__init__.py)",
     "output_type": "error",
     "traceback": [
      "\u001b[0;31m---------------------------------------------------------------------------\u001b[0m",
      "\u001b[0;31mImportError\u001b[0m                               Traceback (most recent call last)",
      "\u001b[0;32m<ipython-input-14-ad45bf1fdfa1>\u001b[0m in \u001b[0;36m<module>\u001b[0;34m\u001b[0m\n\u001b[0;32m----> 1\u001b[0;31m \u001b[0;32mimport\u001b[0m \u001b[0mtensorflow\u001b[0m\u001b[0;34m.\u001b[0m\u001b[0mcontrib\u001b[0m\u001b[0;34m.\u001b[0m\u001b[0mslim\u001b[0m\u001b[0;34m.\u001b[0m\u001b[0mnets\u001b[0m \u001b[0;32mas\u001b[0m \u001b[0mslimNet\u001b[0m\u001b[0;34m\u001b[0m\u001b[0;34m\u001b[0m\u001b[0m\n\u001b[0m",
      "\u001b[0;31mImportError\u001b[0m: cannot import name 'nets' from 'tensorflow_core.contrib.slim' (/home/hsuchaochun/anaconda3/lib/python3.7/site-packages/tensorflow_core/contrib/slim/__init__.py)"
     ]
    }
   ],
   "source": [
    "import tensorflow.contrib.slim.nets as slimNet"
   ]
  },
  {
   "cell_type": "code",
   "execution_count": null,
   "metadata": {},
   "outputs": [],
   "source": [
    "tf.reset_default_graph()\n",
    "\n",
    "X_in = tf.placeholder(dtype=tf.float32, shape=(None, 28*28))\n",
    "y_in = tf.placeholder(dtype=tf.float32, shape=(None, 10))\n",
    "\n",
    "images = tf.reshape(X_in, shape=[-1, 28, 28, 1])\n",
    "# 紀錄 3 張影像在 tensorboard 上\n",
    "tf.summary.image('Input_images', images, max_outputs = 3)\n",
    "\n",
    "with tf.variable_scope('ResNet50'):\n",
    "    net, _ = slimNet.resnet_v2.resnet_v2_50(images, global_pool=False, is_training=True)\n",
    "    gavp = tf.reduce_mean(net, axis=[1,2])\n",
    "    logit = tf.layers.dense(gavp, 10)\n",
    "    # 紀錄 gavp, logit 這兩個 tensor 的權重數值分佈\n",
    "    tf.summary.histogram('Histogram', gavp)\n",
    "    tf.summary.histogram('Histogram_logit', logit)\n",
    "    \n",
    "with tf.name_scope('Loss'):\n",
    "    loss = tf.losses.softmax_cross_entropy(onehot_labels = y_in, logits = logit)\n",
    "    # 紀錄 loss\n",
    "    tf.summary.scalar('Cross_Entropy', loss)\n",
    "\n",
    "with tf.name_scope('Optimizer'):\n",
    "    optimizer = tf.train.AdamOptimizer(1e-6).minimize(loss)\n",
    "\n",
    "result = tf.equal(tf.argmax(logit, 1), tf.argmax(y_in, 1))\n",
    "with tf.name_scope('Accuracy'):\n",
    "    accuracy = tf.reduce_mean(tf.cast(result, tf.float32))\n",
    "    # 紀錄 accuracy\n",
    "    tf.summary.scalar('Accuracy', accuracy)\n",
    "    \n",
    "# 把上面所有的 tf.summary 整合成一個 operation call\n",
    "opsSummary = tf.summary.merge_all()"
   ]
  },
  {
   "cell_type": "markdown",
   "metadata": {},
   "source": [
    "# Training"
   ]
  },
  {
   "cell_type": "code",
   "execution_count": 5,
   "metadata": {},
   "outputs": [],
   "source": [
    "epochs = 20\n",
    "bs = 100"
   ]
  },
  {
   "cell_type": "code",
   "execution_count": 6,
   "metadata": {},
   "outputs": [
    {
     "name": "stderr",
     "output_type": "stream",
     "text": [
      "/home/hsuchaochun/anaconda3/lib/python3.7/site-packages/ipykernel_launcher.py:16: TqdmDeprecationWarning: This function will be removed in tqdm==5.0.0\n",
      "Please use `tqdm.notebook.tqdm` instead of `tqdm.tqdm_notebook`\n",
      "  app.launch_new_instance()\n"
     ]
    },
    {
     "data": {
      "application/vnd.jupyter.widget-view+json": {
       "model_id": "a71b686a2f3b4375ab0caaa94aa39e28",
       "version_major": 2,
       "version_minor": 0
      },
      "text/plain": [
       "HBox(children=(FloatProgress(value=0.0, max=550.0), HTML(value='')))"
      ]
     },
     "metadata": {},
     "output_type": "display_data"
    },
    {
     "name": "stdout",
     "output_type": "stream",
     "text": [
      "\n"
     ]
    },
    {
     "ename": "NameError",
     "evalue": "name 'optimizer' is not defined",
     "output_type": "error",
     "traceback": [
      "\u001b[0;31m---------------------------------------------------------------------------\u001b[0m",
      "\u001b[0;31mNameError\u001b[0m                                 Traceback (most recent call last)",
      "\u001b[0;32m<ipython-input-6-b2d6debc9715>\u001b[0m in \u001b[0;36m<module>\u001b[0;34m\u001b[0m\n\u001b[1;32m     16\u001b[0m     \u001b[0;32mfor\u001b[0m \u001b[0mj\u001b[0m \u001b[0;32min\u001b[0m \u001b[0mtqdm_notebook\u001b[0m\u001b[0;34m(\u001b[0m\u001b[0mrange\u001b[0m\u001b[0;34m(\u001b[0m\u001b[0mmnist\u001b[0m\u001b[0;34m.\u001b[0m\u001b[0mtrain\u001b[0m\u001b[0;34m.\u001b[0m\u001b[0mnum_examples\u001b[0m \u001b[0;34m//\u001b[0m \u001b[0mbs\u001b[0m\u001b[0;34m)\u001b[0m\u001b[0;34m)\u001b[0m\u001b[0;34m:\u001b[0m\u001b[0;34m\u001b[0m\u001b[0;34m\u001b[0m\u001b[0m\n\u001b[1;32m     17\u001b[0m         \u001b[0mbatch\u001b[0m \u001b[0;34m=\u001b[0m \u001b[0mmnist\u001b[0m\u001b[0;34m.\u001b[0m\u001b[0mtrain\u001b[0m\u001b[0;34m.\u001b[0m\u001b[0mnext_batch\u001b[0m\u001b[0;34m(\u001b[0m\u001b[0mbs\u001b[0m\u001b[0;34m)\u001b[0m\u001b[0;34m\u001b[0m\u001b[0;34m\u001b[0m\u001b[0m\n\u001b[0;32m---> 18\u001b[0;31m         \u001b[0msess\u001b[0m\u001b[0;34m.\u001b[0m\u001b[0mrun\u001b[0m\u001b[0;34m(\u001b[0m\u001b[0moptimizer\u001b[0m\u001b[0;34m,\u001b[0m \u001b[0mfeed_dict\u001b[0m \u001b[0;34m=\u001b[0m \u001b[0;34m{\u001b[0m\u001b[0mX_in\u001b[0m\u001b[0;34m:\u001b[0m\u001b[0mbatch\u001b[0m\u001b[0;34m[\u001b[0m\u001b[0;36m0\u001b[0m\u001b[0;34m]\u001b[0m\u001b[0;34m,\u001b[0m \u001b[0my_in\u001b[0m\u001b[0;34m:\u001b[0m\u001b[0mbatch\u001b[0m\u001b[0;34m[\u001b[0m\u001b[0;36m1\u001b[0m\u001b[0;34m]\u001b[0m\u001b[0;34m}\u001b[0m\u001b[0;34m)\u001b[0m\u001b[0;34m\u001b[0m\u001b[0;34m\u001b[0m\u001b[0m\n\u001b[0m\u001b[1;32m     19\u001b[0m \u001b[0;34m\u001b[0m\u001b[0m\n\u001b[1;32m     20\u001b[0m     \u001b[0msaver\u001b[0m \u001b[0;34m=\u001b[0m \u001b[0mtf\u001b[0m\u001b[0;34m.\u001b[0m\u001b[0mtrain\u001b[0m\u001b[0;34m.\u001b[0m\u001b[0mSaver\u001b[0m\u001b[0;34m(\u001b[0m\u001b[0;34m)\u001b[0m\u001b[0;34m\u001b[0m\u001b[0;34m\u001b[0m\u001b[0m\n",
      "\u001b[0;31mNameError\u001b[0m: name 'optimizer' is not defined"
     ]
    }
   ],
   "source": [
    "sess = tf.Session()\n",
    "\n",
    "#Creat writer to write data needed for tensorboard\n",
    "writer = tf.summary.FileWriter(pathLog)\n",
    "\n",
    "#Show graph of neural network in tensorboard\n",
    "writer.add_graph(sess.graph)\n",
    "\n",
    "writerTrain = tf.summary.FileWriter(os.path.join(pathLog, 'train'))\n",
    "writerTest = tf.summary.FileWriter(os.path.join(pathLog, 'test'))\n",
    "\n",
    "sess.run(tf.global_variables_initializer())\n",
    "\n",
    "for i in range(epochs):\n",
    "    # mini-batch training\n",
    "    for j in tqdm_notebook(range(mnist.train.num_examples // bs)):\n",
    "        batch = mnist.train.next_batch(bs)\n",
    "        sess.run(optimizer, feed_dict = {X_in:batch[0], y_in:batch[1]})\n",
    "\n",
    "    saver = tf.train.Saver()\n",
    "    saver.save(sess, os.path.join(pathLog, 'model.ckpt'))\n",
    "\n",
    "    trainAccuracy = sess.run(accuracy, feed_dict = {X_in:trainImages, y_in:trainLabels})\n",
    "    testAccuracy = sess.run(accuracy, feed_dict = {X_in:testImages, y_in:testLabels})\n",
    "    \n",
    "    print('Epoch %2d: acc = %.3f, test_acc = %.3f' % (i+1, trainAccuracy*100., testAccuracy*100.))\n",
    "\n",
    "    # Calculate desired information to be shown in tensorboard\n",
    "    summary = sess.run(opsSummary, feed_dict = {X_in:trainImages, y_in:trainLabels})\n",
    "    writerTrain.add_summary(summary, global_step=i)\n",
    "    \n",
    "    summary = sess.run(opsSummary, feed_dict = {X_in:testImages, y_in:testLabels})\n",
    "    writerTest.add_summary(summary, global_step=i)"
   ]
  },
  {
   "cell_type": "code",
   "execution_count": null,
   "metadata": {},
   "outputs": [],
   "source": [
    "from tensorflow.contrib.tensorboard.plugins import projector"
   ]
  },
  {
   "cell_type": "code",
   "execution_count": null,
   "metadata": {},
   "outputs": [],
   "source": [
    "def images_to_sprite(data):\n",
    "    \"\"\"Creates the sprite image along with any necessary padding\n",
    "\n",
    "    Args:\n",
    "      data: NxHxW[x3] tensor containing the images.\n",
    "\n",
    "    Returns:\n",
    "      data: Properly shaped HxWx3 image with any necessary padding.\n",
    "    \"\"\"\n",
    "    # shape == 3 表示少一個 channel 維度，是灰階圖，先擴充一個維度之後複製相同的三次變 RGB\n",
    "    if len(data.shape) == 3:\n",
    "        data = np.tile(data[...,np.newaxis], (1,1,1,3))\n",
    "    data = data.astype(np.float32)\n",
    "    \n",
    "    # 每一張 image 扣掉每一張的最小值\n",
    "    _min = np.min(data.reshape((data.shape[0], -1)), axis=1)\n",
    "    # 把張數維度 transpose 到最後面再減掉各張的最小值，然後再轉回來 \n",
    "    data = (data.transpose(1,2,3,0) - _min).transpose(3,0,1,2)\n",
    "    \n",
    "    # 每一張 image 的除上每一張的最大值\n",
    "    _max = np.max(data.reshape((data.shape[0], -1)), axis=1)\n",
    "    data = (data.transpose(1,2,3,0) / _max).transpose(3,0,1,2)\n",
    "    \n",
    "    # 把顏色翻轉應該比較好看，預設是有值為白色、背景是黑色\n",
    "    data = 1 - data\n",
    "\n",
    "    n = int(np.ceil(np.sqrt(data.shape[0])))\n",
    "    \n",
    "    # 接下來要把所有圖拼成 n x n 的一張 image\n",
    "    padding = ((0, n ** 2 - data.shape[0]), (0, 0), (0, 0)) + ((0, 0),) * (data.ndim - 3)\n",
    "    data = np.pad(data, padding, mode='constant', constant_values=0)\n",
    "    \n",
    "    # Tile the individual thumbnails into an image.\n",
    "    # 把每一張圖拼起來變成一張縮圖的 image\n",
    "    data = data.reshape((n, n) + data.shape[1:]).transpose((0, 2, 1, 3) + tuple(range(4, data.ndim + 1)))\n",
    "    data = data.reshape((n * data.shape[1], n * data.shape[3]) + data.shape[4:])\n",
    "    data = (data * 255).astype(np.uint8)\n",
    "    return data"
   ]
  },
  {
   "cell_type": "code",
   "execution_count": 7,
   "metadata": {},
   "outputs": [
    {
     "ename": "NameError",
     "evalue": "name 'images_to_sprite' is not defined",
     "output_type": "error",
     "traceback": [
      "\u001b[0;31m---------------------------------------------------------------------------\u001b[0m",
      "\u001b[0;31mNameError\u001b[0m                                 Traceback (most recent call last)",
      "\u001b[0;32m<ipython-input-7-bcb8522b732a>\u001b[0m in \u001b[0;36m<module>\u001b[0;34m\u001b[0m\n\u001b[1;32m      1\u001b[0m \u001b[0;31m# Generate the sprite image\u001b[0m\u001b[0;34m\u001b[0m\u001b[0;34m\u001b[0m\u001b[0;34m\u001b[0m\u001b[0m\n\u001b[1;32m      2\u001b[0m \u001b[0mpathSprite\u001b[0m \u001b[0;34m=\u001b[0m \u001b[0mos\u001b[0m\u001b[0;34m.\u001b[0m\u001b[0mpath\u001b[0m\u001b[0;34m.\u001b[0m\u001b[0mjoin\u001b[0m\u001b[0;34m(\u001b[0m\u001b[0mpathLog\u001b[0m\u001b[0;34m,\u001b[0m \u001b[0;34m'mnist_10k_sprite.png'\u001b[0m\u001b[0;34m)\u001b[0m\u001b[0;34m\u001b[0m\u001b[0;34m\u001b[0m\u001b[0m\n\u001b[0;32m----> 3\u001b[0;31m \u001b[0mcv2\u001b[0m\u001b[0;34m.\u001b[0m\u001b[0mimwrite\u001b[0m\u001b[0;34m(\u001b[0m\u001b[0mpathSprite\u001b[0m\u001b[0;34m,\u001b[0m \u001b[0mimages_to_sprite\u001b[0m\u001b[0;34m(\u001b[0m\u001b[0mtestImages\u001b[0m\u001b[0;34m.\u001b[0m\u001b[0mreshape\u001b[0m\u001b[0;34m(\u001b[0m\u001b[0;34m-\u001b[0m\u001b[0;36m1\u001b[0m\u001b[0;34m,\u001b[0m \u001b[0;36m28\u001b[0m\u001b[0;34m,\u001b[0m \u001b[0;36m28\u001b[0m\u001b[0;34m)\u001b[0m\u001b[0;34m)\u001b[0m\u001b[0;34m)\u001b[0m\u001b[0;34m\u001b[0m\u001b[0;34m\u001b[0m\u001b[0m\n\u001b[0m\u001b[1;32m      4\u001b[0m \u001b[0;31m# !cp mnist_10k_sprite.png log/\u001b[0m\u001b[0;34m\u001b[0m\u001b[0;34m\u001b[0m\u001b[0;34m\u001b[0m\u001b[0m\n\u001b[1;32m      5\u001b[0m \u001b[0;34m\u001b[0m\u001b[0m\n",
      "\u001b[0;31mNameError\u001b[0m: name 'images_to_sprite' is not defined"
     ]
    }
   ],
   "source": [
    "# Generate the sprite image\n",
    "pathSprite = os.path.join(pathLog, 'mnist_10k_sprite.png')\n",
    "cv2.imwrite(pathSprite, images_to_sprite(testImages.reshape(-1, 28, 28)))\n",
    "# !cp mnist_10k_sprite.png log/\n",
    "\n",
    "# Generate the metadata (here is just the labels of figures)\n",
    "pathMetadata = os.path.join(pathLog, 'metadata.tsv')\n",
    "with open(pathMetadata, 'w') as fin:\n",
    "    for i in np.argmax(testLabels, axis=1):\n",
    "        fin.write('%s\\n' % i)\n",
    "\n",
    "# Calculate the layer for embedding\n",
    "# 此處拿 ResNet50 的 2048 維輸出做 embedding\n",
    "embeddingVar = sess.run(gavp, feed_dict = {X_in:testImages})\n",
    "\n",
    "# It needs to be a tensorflow variable and initialized\n",
    "embeddingVar = tf.Variable(embeddingVar, name='embedding')\n",
    "sess.run(embeddingVar.initializer)\n",
    "\n",
    "saver = tf.train.Saver()\n",
    "config = projector.ProjectorConfig()\n",
    "embedding = config.embeddings.add()\n",
    "embedding.tensor_name = embeddingVar.name\n",
    "embedding.metadata_path = os.path.basename(pathMetadata)\n",
    "embedding.sprite.image_path = os.path.basename(pathSprite)\n",
    "embedding.sprite.single_image_dim.extend([28, 28])\n",
    "projector.visualize_embeddings(writer, config)\n",
    "\n",
    "path = os.path.join(pathLog, 'embedding.ckpt')\n",
    "saver.save(sess, path)\n",
    "\n",
    "writer.close()\n",
    "sess.close()"
   ]
  },
  {
   "cell_type": "code",
   "execution_count": 8,
   "metadata": {},
   "outputs": [
    {
     "name": "stdout",
     "output_type": "stream",
     "text": [
      "TensorBoard 1.15.0 at http://hsuchaochundeubuntu:6006/ (Press CTRL+C to quit)\n",
      "^C\n"
     ]
    }
   ],
   "source": [
    "# Run the tensorboard server\n",
    "!tensorboard --logdir='log/'"
   ]
  },
  {
   "cell_type": "raw",
   "metadata": {},
   "source": [
    "# 把之前的 log 紀錄清除\n",
    "!rm -r log"
   ]
  },
  {
   "cell_type": "code",
   "execution_count": null,
   "metadata": {},
   "outputs": [],
   "source": []
  }
 ],
 "metadata": {
  "kernelspec": {
   "display_name": "Python 3",
   "language": "python",
   "name": "python3"
  },
  "language_info": {
   "codemirror_mode": {
    "name": "ipython",
    "version": 3
   },
   "file_extension": ".py",
   "mimetype": "text/x-python",
   "name": "python",
   "nbconvert_exporter": "python",
   "pygments_lexer": "ipython3",
   "version": "3.7.6"
  }
 },
 "nbformat": 4,
 "nbformat_minor": 2
}
